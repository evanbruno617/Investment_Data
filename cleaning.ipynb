{
 "cells": [
  {
   "cell_type": "code",
   "execution_count": 86,
   "id": "10431893",
   "metadata": {},
   "outputs": [],
   "source": [
    "import pandas as pd\n",
    "import statistics\n",
    "import os"
   ]
  },
  {
   "cell_type": "code",
   "execution_count": 87,
   "id": "d8cdfbc3",
   "metadata": {},
   "outputs": [],
   "source": [
    "#obtain list of sectors\n",
    "directory = \"TD_Financials\"\n",
    "list_sector = []\n",
    "for filename in os.listdir(directory):\n",
    "    list_sector.append(filename)"
   ]
  },
  {
   "cell_type": "code",
   "execution_count": 94,
   "id": "09dd6c4c",
   "metadata": {},
   "outputs": [],
   "source": [
    "for sector in list_sector:\n",
    "    data_df = pd.read_csv(f'{directory}/{sector}')\n",
    "\n",
    "    #reshaping df\n",
    "    columns = data_df['key_0'].tolist()\n",
    "    data = data_df.transpose()\n",
    "    data.columns = columns\n",
    "\n",
    "    #drop uncessary columns\n",
    "\n",
    "    data.drop(columns=[\"high52\", 'low52', 'dividendAmount', 'dividendYield', 'dividendDate', 'quickRatio', 'interestCoverage', 'epsTTM', 'epsChangePercentTTM', 'epsChangeYear', 'epsChange', 'revChangeYear', 'shortIntToFloat', 'shortIntDayToCover', 'divGrowthRate3Year', 'dividendPayAmount', 'dividendPayDate', 'beta', 'vol1DayAvg', 'vol10DayAvg', 'vol3MonthAvg', 'symbol'], inplace=True)\n",
    "    data.drop(index='key_0', inplace=True)\n",
    "\n",
    "    # Change string dtypes to float\n",
    "    data = data.apply(pd.to_numeric)\n",
    "\n",
    "    #get rid of nonzero pe ratios\n",
    "    data = data.loc[data['peRatio'] != 0]\n",
    "\n",
    "    pe = data['peRatio'].tolist()\n",
    "\n",
    "    data.sort_values(['peRatio', 'grossMarginTTM'],\n",
    "              ascending = [True, True])\n",
    "\n",
    "    data.to_csv(f'{directory}/{sector}')"
   ]
  },
  {
   "cell_type": "code",
   "execution_count": 95,
   "id": "2a829137",
   "metadata": {},
   "outputs": [
    {
     "data": {
      "text/plain": [
       "['symbol',\n",
       " 'high52',\n",
       " 'low52',\n",
       " 'dividendAmount',\n",
       " 'dividendYield',\n",
       " 'dividendDate',\n",
       " 'peRatio',\n",
       " 'pegRatio',\n",
       " 'pbRatio',\n",
       " 'prRatio',\n",
       " 'pcfRatio',\n",
       " 'grossMarginTTM',\n",
       " 'grossMarginMRQ',\n",
       " 'netProfitMarginTTM',\n",
       " 'netProfitMarginMRQ',\n",
       " 'operatingMarginTTM',\n",
       " 'operatingMarginMRQ',\n",
       " 'returnOnEquity',\n",
       " 'returnOnAssets',\n",
       " 'returnOnInvestment',\n",
       " 'quickRatio',\n",
       " 'currentRatio',\n",
       " 'interestCoverage',\n",
       " 'totalDebtToCapital',\n",
       " 'ltDebtToEquity',\n",
       " 'totalDebtToEquity',\n",
       " 'epsTTM',\n",
       " 'epsChangePercentTTM',\n",
       " 'epsChangeYear',\n",
       " 'epsChange',\n",
       " 'revChangeYear',\n",
       " 'revChangeTTM',\n",
       " 'revChangeIn',\n",
       " 'sharesOutstanding',\n",
       " 'marketCapFloat',\n",
       " 'marketCap',\n",
       " 'bookValuePerShare',\n",
       " 'shortIntToFloat',\n",
       " 'shortIntDayToCover',\n",
       " 'divGrowthRate3Year',\n",
       " 'dividendPayAmount',\n",
       " 'dividendPayDate',\n",
       " 'beta',\n",
       " 'vol1DayAvg',\n",
       " 'vol10DayAvg',\n",
       " 'vol3MonthAvg']"
      ]
     },
     "execution_count": 95,
     "metadata": {},
     "output_type": "execute_result"
    }
   ],
   "source": [
    "columns"
   ]
  }
 ],
 "metadata": {
  "kernelspec": {
   "display_name": "PythonData",
   "language": "python",
   "name": "pythondata"
  },
  "language_info": {
   "codemirror_mode": {
    "name": "ipython",
    "version": 3
   },
   "file_extension": ".py",
   "mimetype": "text/x-python",
   "name": "python",
   "nbconvert_exporter": "python",
   "pygments_lexer": "ipython3",
   "version": "3.9.7"
  }
 },
 "nbformat": 4,
 "nbformat_minor": 5
}
